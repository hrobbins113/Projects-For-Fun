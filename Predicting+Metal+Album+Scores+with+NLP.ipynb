{
 "cells": [
  {
   "cell_type": "code",
   "execution_count": 1,
   "metadata": {
    "collapsed": true
   },
   "outputs": [],
   "source": [
    "import pandas as pd\n",
    "import numpy as np\n",
    "import matplotlib.pyplot as plt\n",
    "%matplotlib inline\n",
    "from sklearn.feature_extraction.text import CountVectorizer\n",
    "import string\n",
    "from nltk.corpus import stopwords\n",
    "from nltk.stem import PorterStemmer\n",
    "from sklearn.model_selection import train_test_split\n",
    "from sklearn.ensemble import RandomForestRegressor\n",
    "from sklearn.metrics import accuracy_score\n",
    "import seaborn as sns\n",
    "\n",
    "df_reviews = pd.read_csv('reviews.csv.zip', encoding= 'utf-8')\n",
    "\n",
    "df_rev = df_reviews[['score', 'content']]\n",
    "\n",
    "def lower_and_remove_punctuation(review):\n",
    "    make_lower = review.lower()\n",
    "    remove = set(string.punctuation)\n",
    "    return \"\".join(i for i in make_lower if i not in remove)\n",
    "\n",
    "df_rev['review_no_punct'] = df_rev['content'].apply(lower_and_remove_punctuation)\n",
    "\n",
    "def split_and_remove_stopwords(words):\n",
    "    lower = words.lower()\n",
    "    split = lower.split()\n",
    "    final = ''\n",
    "    for s in split:\n",
    "        if s not in stopwords.words('english'):\n",
    "            final += (s + \" \")\n",
    "        return final        \n",
    "\n",
    "df_rev['review_no_stop'] = df_rev['review_no_punct'].apply(split_and_remove_stopwords)\n",
    "\n",
    "stemming = PorterStemmer()\n",
    "\n",
    "def stems(string):\n",
    "    string = string.split(' ')\n",
    "    things = \"\"\n",
    "    for t in string:\n",
    "        things += (stemming.stem(t) + \" \")\n",
    "    return things\n",
    "\n",
    "df_rev['review_processed'] = df_rev['review_no_punct'].apply(stems)\n",
    "\n",
    "y = df_rev['score']\n",
    "x = df_rev['review_processed']\n",
    "\n",
    "x_train, x_test, y_train, y_test = train_test_split(x, y)\n",
    "\n",
    "cv = CountVectorizer()\n",
    "\n",
    "df_train  = pd.DataFrame(cv.fit_transform(x_train).todense(),\n",
    "             columns=cv.get_feature_names())\n",
    "\n",
    "df_test = pd.DataFrame(cv.transform(x_test).todense(),\n",
    "             columns=cv.get_feature_names())\n",
    "\n",
    "rfr = RandomForestRegressor()\n",
    "\n",
    "rfr.fit(df_train, y_train)\n",
    "\n",
    "rfr.score(df_train, y_train)\n",
    "\n",
    "rfr.score(df_test, y_test)\n",
    "\n",
    "def run_model(x_train, y_train, x_test, y_test, model):\n",
    "    rfr.fit(x_train, y_train)\n",
    "    print \"Base model score: \" + str(np.mean(y_test))[:6]\n",
    "    print \"Training set score: \", str(rfr.score(x_train, y_train))[:6]\n",
    "    print \"Test set score: \", str(rfr.score(x_test, y_test))[:6]\n",
    "    predictions = rfr.predict(x_test)\n",
    "\n",
    "run_model(df_train, y_train, df_test, y_test, rfr)"
   ]
  },
  {
   "cell_type": "code",
   "execution_count": null,
   "metadata": {
    "collapsed": true
   },
   "outputs": [],
   "source": []
  }
 ],
 "metadata": {
  "kernelspec": {
   "display_name": "Python 2",
   "language": "python",
   "name": "python2"
  },
  "language_info": {
   "codemirror_mode": {
    "name": "ipython",
    "version": 2
   },
   "file_extension": ".py",
   "mimetype": "text/x-python",
   "name": "python",
   "nbconvert_exporter": "python",
   "pygments_lexer": "ipython2",
   "version": "2.7.13"
  }
 },
 "nbformat": 4,
 "nbformat_minor": 2
}
